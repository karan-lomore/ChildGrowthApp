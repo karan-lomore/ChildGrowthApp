{
 "cells": [
  {
   "cell_type": "code",
   "execution_count": 1,
   "id": "2aeef9a6",
   "metadata": {
    "hide_input": false,
    "scrolled": true
   },
   "outputs": [],
   "source": [
    "#libraries\n",
    "import ipywidgets as widgets\n",
    "from datetime import datetime\n",
    "import pandas as pd\n",
    "import matplotlib.pyplot as plt\n",
    "from IPython.display import display, clear_output, Markdown\n"
   ]
  },
  {
   "cell_type": "code",
   "execution_count": 2,
   "id": "4f031e7e",
   "metadata": {
    "hide_input": false,
    "scrolled": true
   },
   "outputs": [
    {
     "data": {
      "application/vnd.jupyter.widget-view+json": {
       "model_id": "51d03bbea8a8424d8e276bffe366874b",
       "version_major": 2,
       "version_minor": 0
      },
      "text/plain": [
       "DatePicker(value=None, description='Start Date')"
      ]
     },
     "metadata": {},
     "output_type": "display_data"
    },
    {
     "data": {
      "application/vnd.jupyter.widget-view+json": {
       "model_id": "c15b5a3763834f12965db65a2c97acc5",
       "version_major": 2,
       "version_minor": 0
      },
      "text/plain": [
       "Select(description='Gender:', options=('F', 'M'), rows=2, value='F')"
      ]
     },
     "metadata": {},
     "output_type": "display_data"
    },
    {
     "data": {
      "application/vnd.jupyter.widget-view+json": {
       "model_id": "56a332f0c52442728dfa02042fe7a470",
       "version_major": 2,
       "version_minor": 0
      },
      "text/plain": [
       "Select(description='Guidelines:', options=('CDC', 'WHO', 'IAP'), rows=3, value='CDC')"
      ]
     },
     "metadata": {},
     "output_type": "display_data"
    }
   ],
   "source": [
    "profile = []\n",
    "\n",
    "dob = widgets.DatePicker(\n",
    "    description='Start Date',\n",
    "    disabled=False\n",
    ")\n",
    "\n",
    "display(dob)\n",
    "\n",
    "\n",
    "sel_sex = widgets.Select(\n",
    " options=['F','M'],\n",
    " rows=2,\n",
    " description='Gender:'\n",
    ")\n",
    "display(sel_sex)\n",
    "\n",
    "\n",
    "bt_guidelines = widgets.Select(\n",
    "    options=['CDC','WHO','IAP'],\n",
    "    rows=3,\n",
    "    description='Guidelines:'\n",
    "    )\n",
    "display(bt_guidelines)\n",
    "\n"
   ]
  },
  {
   "cell_type": "code",
   "execution_count": 9,
   "id": "57dff4a9",
   "metadata": {
    "hide_input": false
   },
   "outputs": [],
   "source": [
    "gender = sel_sex.value\n",
    "guidelines = bt_guidelines.value\n",
    "dobb = dob.value\n",
    "profile.append('Gender: {}'.format(gender))\n",
    "profile.append('Guidelines Selected: {}'.format(guidelines))"
   ]
  },
  {
   "cell_type": "code",
   "execution_count": 10,
   "id": "0815f8de",
   "metadata": {
    "hide_input": false
   },
   "outputs": [],
   "source": [
    "def dob_to_age_func(dob_ddmmyyyy):\n",
    "    \n",
    "    crnt_date = datetime.now()\n",
    "    \n",
    "    dob_format_chnge = datetime.strptime(dob_ddmmyyyy,'%Y-%m-%d')\n",
    "    \n",
    "    age_in_days = crnt_date - dob_format_chnge\n",
    "    \n",
    "    age_in_yrs = age_in_days.total_seconds() / (365.242 * 24 * 3600)\n",
    "    \n",
    "    age_in_yrs = round(age_in_yrs, 2)\n",
    "    \n",
    "    age_in_yrs_int = int(age_in_yrs)\n",
    "    \n",
    "    age_remaining_months = (age_in_yrs - age_in_yrs_int) * 12\n",
    "    \n",
    "    age_remaining_months_int = int(age_remaining_months)\n",
    "    \n",
    "    age_yrs_months_list = [age_in_yrs_int, age_remaining_months_int]\n",
    "    \n",
    "    return age_in_yrs_int, age_in_yrs, age_yrs_months_list"
   ]
  },
  {
   "cell_type": "code",
   "execution_count": 11,
   "id": "e4fe2fb7",
   "metadata": {
    "hide_input": false
   },
   "outputs": [],
   "source": [
    "age_in_yrs_int, age_in_yrs, age_yrs_months_list = dob_to_age_func(str(dobb)) \n",
    "age = age_yrs_months_list[0]\n",
    "actual_months = age_yrs_months_list[1]\n",
    "if actual_months <4:\n",
    "    months = 0\n",
    "elif 4 <= actual_months<9:\n",
    "    months = 6\n",
    "else:\n",
    "    age+=1\n",
    "    months = 0\n",
    "profile.append('Age: {} years {} months'.format(age,actual_months))"
   ]
  },
  {
   "cell_type": "code",
   "execution_count": 12,
   "id": "78ac62fb",
   "metadata": {
    "hide_input": false
   },
   "outputs": [
    {
     "data": {
      "application/vnd.jupyter.widget-view+json": {
       "model_id": "6f1f7be4b2354ecf96921e786b026f56",
       "version_major": 2,
       "version_minor": 0
      },
      "text/plain": [
       "IntText(value=0, description='Height:')"
      ]
     },
     "metadata": {},
     "output_type": "display_data"
    },
    {
     "data": {
      "application/vnd.jupyter.widget-view+json": {
       "model_id": "a2fca5574d0e4f7390c2195b3251e61e",
       "version_major": 2,
       "version_minor": 0
      },
      "text/plain": [
       "IntText(value=0, description='Weight:')"
      ]
     },
     "metadata": {},
     "output_type": "display_data"
    },
    {
     "data": {
      "application/vnd.jupyter.widget-view+json": {
       "model_id": "d52689a646494da6a7c9b1c190743a18",
       "version_major": 2,
       "version_minor": 0
      },
      "text/plain": [
       "IntText(value=0, description='Body fat %:')"
      ]
     },
     "metadata": {},
     "output_type": "display_data"
    }
   ],
   "source": [
    "bodyfat = False\n",
    "if 5<= age <= 20:\n",
    "        bt_Ht = widgets.IntText(\n",
    "         description='Height:'\n",
    "         )\n",
    "        display(bt_Ht)\n",
    "        height = bt_Ht.value\n",
    "        \n",
    "\n",
    "        bt_Wt = widgets.IntText(\n",
    "         description='Weight:'\n",
    "         )\n",
    "        display(bt_Wt)\n",
    "        weight = bt_Wt.value\n",
    "        \n",
    "        \n",
    "        if 'IAP' in guidelines:\n",
    "            bt_bf_pct = widgets.IntText(\n",
    "             description='Body fat %:'\n",
    "             )\n",
    "            display(bt_bf_pct)\n",
    "            bodyfat = True\n",
    "\n",
    "elif 0 <= age <5:\n",
    "    if 'CDC' in guidelines:\n",
    "        #no arm circumference information in CDC\n",
    "        bt_Lt = widgets.IntText(\n",
    "         description='Length:'\n",
    "         )\n",
    "        display(bt_Lt)\n",
    "        height = bt_Lt.value\n",
    "        \n",
    "        bt_head_circum = widgets.IntText(\n",
    "         description='Head Circumference:'\n",
    "         )\n",
    "        display(bt_head_circum)\n",
    "        head_circum = bt_head_circum.value\n",
    "        \n",
    "        bt_Wt = widgets.IntText(\n",
    "         description='Weight:'\n",
    "         )\n",
    "        display(bt_Wt)\n",
    "        weight = bt_Wt.value\n",
    "        \n",
    "    else:\n",
    "        guidelines = 'WHO'\n",
    "        #IAP takes WHO data for 0 to 5 years\n",
    "        bt_Lt = widgets.IntText(\n",
    "         description='Length:'\n",
    "         )\n",
    "        display(bt_Lt)\n",
    "        height = bt_Lt.value\n",
    "        \n",
    "        bt_head_circum = widgets.IntText(\n",
    "         description='Head Circumference:'\n",
    "         )\n",
    "        display(bt_head_circum)\n",
    "        head_circum = bt_head_circum.value\n",
    "        \n",
    "        bt_arm_circum = widgets.IntText(\n",
    "         description='Arm Circumference:'\n",
    "         )\n",
    "        display(bt_arm_circum)\n",
    "        arm_circum = bt_arm_circum.value\n",
    "        \n",
    "        \n",
    "        bt_Wt = widgets.IntText(\n",
    "         description='Weight:'\n",
    "         )\n",
    "        display(bt_Wt)\n",
    "        weight = bt_Wt.value\n",
    "     \n",
    "        \n",
    "        bt_skin_fold = widgets.IntText(\n",
    "         description='Skin fold:'\n",
    "         )\n",
    "        display(bt_skin_fold)\n",
    "        skin_fold = bt_skin_fold.value\n",
    "        \n",
    "        \n",
    "        bt_tricep_skin_fold = widgets.IntText(\n",
    "         description='Tricep Skin fold:'\n",
    "         )\n",
    "        display(bt_tricep_skin_fold)\n",
    "        tricep_skin_fold = bt_tricep_skin_fold.value\n",
    "        \n",
    "\n",
    "else:\n",
    "    print('Invalid age')\n"
   ]
  },
  {
   "cell_type": "code",
   "execution_count": 7,
   "id": "62d1d4fa",
   "metadata": {
    "hide_input": false
   },
   "outputs": [],
   "source": [
    "if 5<= age <= 20:\n",
    "        height = bt_Ht.value\n",
    "        weight = bt_Wt.value\n",
    "        if bodyfat:\n",
    "            fatmass_pct = bt_bf_pct.value\n",
    "            profile.append('BodyFat%: {} %'.format(fatmass_pct))\n",
    "        profile.append('Height: {} cm'.format(height))\n",
    "        profile.append('Weight: {} kg'.format(weight))\n",
    "\n",
    "elif 0 <= age <5:\n",
    "    if 'CDC' in guidelines:\n",
    "        length = bt_Lt.value\n",
    "        head_circum = bt_head_circum.value\n",
    "        weight = bt_Wt.value\n",
    "        profile.append('Weight: {} kg'.format(weight))\n",
    "        profile.append('Length: {} cm'.format(length))\n",
    "        profile.append('Head Circumference: $s cm'.format(head_circum))\n",
    "        \n",
    "    else:\n",
    "        length = bt_Lt.value\n",
    "        head_circum = bt_head_circum.value\n",
    "        weight = bt_Wt.value\n",
    "        arm_circum = bt_arm_circum.value\n",
    "        skin_fold = bt_skin_fold.value\n",
    "        tricep_skin_fold = bt_tricep_skin_fold.value\n",
    "        profile.append('Weight: {} kg'.format(weight))\n",
    "        profile.append('Length: {} cm'.format(length))\n",
    "        profile.append('Head Circumference: {} cm'.format(head_circum))\n",
    "        profile.append('Arm Circumference: {} cm'.format(arm_circum))\n",
    "        profile.append('Skin fold: {} '.format(skin_fold))\n",
    "        profile.append('Tricep Skin fold: {} '.format(tricep_skin_fold))"
   ]
  },
  {
   "cell_type": "code",
   "execution_count": 8,
   "id": "cd11a105",
   "metadata": {
    "hide_input": false
   },
   "outputs": [
    {
     "ename": "ZeroDivisionError",
     "evalue": "division by zero",
     "output_type": "error",
     "traceback": [
      "\u001b[1;31m---------------------------------------------------------------------------\u001b[0m",
      "\u001b[1;31mZeroDivisionError\u001b[0m                         Traceback (most recent call last)",
      "\u001b[1;32m~\\AppData\\Local\\Temp/ipykernel_14248/3561760791.py\u001b[0m in \u001b[0;36m<module>\u001b[1;34m\u001b[0m\n\u001b[0;32m     20\u001b[0m     \u001b[0mbmi\u001b[0m \u001b[1;33m=\u001b[0m \u001b[0mround\u001b[0m\u001b[1;33m(\u001b[0m\u001b[1;33m(\u001b[0m\u001b[1;33m(\u001b[0m\u001b[0mweight\u001b[0m\u001b[1;33m/\u001b[0m\u001b[1;33m(\u001b[0m\u001b[0mheight\u001b[0m\u001b[1;33m**\u001b[0m\u001b[1;36m2\u001b[0m\u001b[1;33m)\u001b[0m\u001b[1;33m)\u001b[0m\u001b[1;33m*\u001b[0m\u001b[1;36m10000\u001b[0m\u001b[1;33m)\u001b[0m\u001b[1;33m,\u001b[0m\u001b[1;36m2\u001b[0m\u001b[1;33m)\u001b[0m\u001b[1;33m\u001b[0m\u001b[1;33m\u001b[0m\u001b[0m\n\u001b[0;32m     21\u001b[0m \u001b[1;32melse\u001b[0m\u001b[1;33m:\u001b[0m\u001b[1;33m\u001b[0m\u001b[1;33m\u001b[0m\u001b[0m\n\u001b[1;32m---> 22\u001b[1;33m     \u001b[0mbmi\u001b[0m \u001b[1;33m=\u001b[0m \u001b[0mround\u001b[0m\u001b[1;33m(\u001b[0m\u001b[1;33m(\u001b[0m\u001b[1;33m(\u001b[0m\u001b[0mweight\u001b[0m\u001b[1;33m/\u001b[0m\u001b[1;33m(\u001b[0m\u001b[0mlength\u001b[0m\u001b[1;33m**\u001b[0m\u001b[1;36m2\u001b[0m\u001b[1;33m)\u001b[0m\u001b[1;33m)\u001b[0m\u001b[1;33m*\u001b[0m\u001b[1;36m10000\u001b[0m\u001b[1;33m)\u001b[0m\u001b[1;33m,\u001b[0m\u001b[1;36m2\u001b[0m\u001b[1;33m)\u001b[0m\u001b[1;33m\u001b[0m\u001b[1;33m\u001b[0m\u001b[0m\n\u001b[0m\u001b[0;32m     23\u001b[0m    \u001b[1;31m# taken from female data generated correlation saha sir data\u001b[0m\u001b[1;33m\u001b[0m\u001b[1;33m\u001b[0m\u001b[1;33m\u001b[0m\u001b[0m\n\u001b[0;32m     24\u001b[0m \u001b[0mprofile\u001b[0m\u001b[1;33m.\u001b[0m\u001b[0mappend\u001b[0m\u001b[1;33m(\u001b[0m\u001b[1;34m'BMI: {} '\u001b[0m\u001b[1;33m.\u001b[0m\u001b[0mformat\u001b[0m\u001b[1;33m(\u001b[0m\u001b[0mbmi\u001b[0m\u001b[1;33m)\u001b[0m\u001b[1;33m)\u001b[0m\u001b[1;33m\u001b[0m\u001b[1;33m\u001b[0m\u001b[0m\n",
      "\u001b[1;31mZeroDivisionError\u001b[0m: division by zero"
     ]
    }
   ],
   "source": [
    "def bmi_fat_pct_func(age, gender, bmi):\n",
    "    fatmass_pct=0\n",
    "   # taken from female data generated correlation saha sir data \n",
    "    if 2 <= age <= 7:\n",
    "        if gender == 'male' or gender == 'female':\n",
    "            fatmass_pct = (-0.05 * age) + (1.034 * bmi) + 4.39\n",
    "    \n",
    "    if 7 < age <= 18:\n",
    "        if gender == 'male':\n",
    "            fatmass_pct = (-0.05 * age) + (1.034 * bmi) + 4.39 - (3.6 * age / 18) # age reduce fat pct in boys with respect to girls over age\n",
    "        elif gender == 'female':\n",
    "            fatmass_pct = (-0.05 * age) + (1.034 * bmi) + 4.39\n",
    "\n",
    "    fatmass_pct = round(fatmass_pct, 1)\n",
    "    \n",
    "    return fatmass_pct\n",
    "\n",
    "#calculations\n",
    "if age>4:\n",
    "    bmi = round(((weight/(height**2))*10000),2)\n",
    "else:\n",
    "    bmi = round(((weight/(length**2))*10000),2)\n",
    "   # taken from female data generated correlation saha sir data \n",
    "profile.append('BMI: {} '.format(bmi))\n",
    "if not(bodyfat):\n",
    "    fatmass_pct = bmi_fat_pct_func(age, gender, bmi)\n",
    "\n",
    "fatmass = fatmass_pct/100\n",
    "profile.append('BodyFat%: {} %'.format(fatmass_pct))\n",
    "#need to add 0-2 vaala\n"
   ]
  },
  {
   "cell_type": "code",
   "execution_count": 349,
   "id": "52a4806c",
   "metadata": {
    "hide_input": false
   },
   "outputs": [
    {
     "data": {
      "application/vnd.jupyter.widget-view+json": {
       "model_id": "9e1000318d6e4374a1868d9f9a3bb4c4",
       "version_major": 2,
       "version_minor": 0
      },
      "text/plain": [
       "VBox(children=(Button(description='View Profile', style=ButtonStyle()), Output()))"
      ]
     },
     "metadata": {},
     "output_type": "display_data"
    }
   ],
   "source": [
    "button = widgets.Button(description='View Profile')\n",
    "out = widgets.Output()\n",
    "\n",
    "def on_button_clicked(_):\n",
    "    with out:\n",
    "        clear_output()\n",
    "        for i in profile:\n",
    "            display(Markdown(i))\n",
    "\n",
    "button.on_click(on_button_clicked)\n",
    "widgets.VBox([button,out])\n"
   ]
  },
  {
   "cell_type": "code",
   "execution_count": 350,
   "id": "c4337eb1",
   "metadata": {
    "hide_input": false
   },
   "outputs": [
    {
     "name": "stdout",
     "output_type": "stream",
     "text": [
      "7.5\n"
     ]
    }
   ],
   "source": [
    "profile = []\n",
    "BMI,head,skin,tricep,arm,fat,fatpct,weight_yes = False,False,False,False,False,False,False,True\n",
    "column_names = ['Age','3rd',\n",
    "           '5th',\n",
    "           '10th',\n",
    "           '25th',\n",
    "           '50th',\n",
    "           '75th',\n",
    "           '90th',\n",
    "           '95th',\n",
    "           '97th']\n",
    "if guidelines == 'CDC':\n",
    "        age_ym = age*12+months/12\n",
    "        if gender == 'M':\n",
    "            if age <3:\n",
    "                weight_data = pd.read_csv('cdc-dataset/boys_weight0-3.csv')\n",
    "\n",
    "                height_data = pd.read_csv('cdc-dataset/boys_height0-3.csv')\n",
    "\n",
    "                head_circum_data = pd.read_csv('cdc-dataset/boys_head0-3.csv')\n",
    "\n",
    "                head=True\n",
    "\n",
    "\n",
    "            else:\n",
    "                weight_data = pd.read_csv('cdc-dataset/boys_weight2-20.csv')\n",
    "\n",
    "                height_data = pd.read_csv('cdc-dataset/boys_height2-20.csv')\n",
    "\n",
    "                bmi_data = pd.read_csv('cdc-dataset/boys_bmi2-20.csv')\n",
    "\n",
    "\n",
    "                BMI =True\n",
    "\n",
    "        elif gender == 'F':\n",
    "            if age <3:\n",
    "                weight_data = pd.read_csv('cdc-dataset/girls_weight0-3.csv')\n",
    "\n",
    "                height_data = pd.read_csv('cdc-dataset/girls_height0-3.csv')\n",
    "\n",
    "                head_circum_data = pd.read_csv('cdc-dataset/girls_head0-3.csv')\n",
    "\n",
    "\n",
    "                head=True\n",
    "            else:\n",
    "                weight_data = pd.read_csv('cdc-dataset/girls_weight2-20.csv')\n",
    "\n",
    "                height_data = pd.read_csv('cdc-dataset/girls_height2-20.csv')\n",
    "\n",
    "                bmi_data = pd.read_csv('cdc-dataset/girls_bmi2-20.csv')\n",
    "\n",
    "                BMI =True\n",
    "\n",
    "        rownumber_weight = weight_data[weight_data['Age (in months)'] == age_ym].index[0]\n",
    "        weight_data.columns = ['Age (in months)','3rd','5th','10th','25th','50th','75th','90th','95th','97th']\n",
    "        rownumber_height = height_data[height_data['Age (in months)'] == age_ym].index[0]\n",
    "        height_data.columns = ['Age (in months)','3rd','5th','10th','25th','50th','75th','90th','95th','97th']\n",
    "        if BMI:\n",
    "            rownumber_bmi = bmi_data[bmi_data['Age (in months)'] == age_ym].index[0]\n",
    "            bmi_data.columns = ['Age (in months)','3rd','5th','10th','25th','50th','75th','85th','90th','95th','97th']\n",
    "        if head:\n",
    "            rownumber_head_circum = head_circum_data[head_circum_data['Age (in months)'] == age_ym].index[0]\n",
    "            head_circum_data.columns = ['Age (in months)','3rd','5th','10th','25th','50th','75th','90th','95th','97th']\n",
    "\n",
    "elif guidelines == 'IAP':\n",
    "                BMI = True\n",
    "                fat = True\n",
    "                fatpct = True\n",
    "                age_ym = age+months/12\n",
    "                print(age_ym)\n",
    "                if gender =='M':\n",
    "                    weight_data = pd.read_csv('IAP-Dataset/male_weight_SD.csv')\n",
    "                    height_data = pd.read_csv('IAP-Dataset/male_height_SD.csv')\n",
    "                    bmi_data = pd.read_csv('IAP-dataset/male_bmi_SD.csv',sep = '\\t')\n",
    "                    fatmass_pct_data = pd.read_csv('IAP-dataset/male_fatmass_pct_SD.csv')\n",
    "                    fatmass_data = pd.read_csv('IAP-dataset/male_fatmass_SD.csv')\n",
    "\n",
    "\n",
    "                elif gender =='F':\n",
    "                    weight_data = pd.read_csv('IAP-Dataset/female_weight_SD.csv')\n",
    "                    height_data = pd.read_csv('IAP-Dataset/female_height_SD.csv')\n",
    "                    bmi_data = pd.read_csv('IAP-dataset/female_bmi_SD.csv')\n",
    "                    fatmass_pct_data = pd.read_csv('IAP-dataset/female_fatmass_pct_SD.csv')\n",
    "                    fatmass_data = pd.read_csv('IAP-dataset/female_fatmass_SD.csv')\n",
    "\n",
    "                \n",
    "                rownumber_weight = weight_data[weight_data['Age'] == age_ym].index[0]\n",
    "                weight_data.columns = ['Age','3rd','10th','25th','50th','75th','90th','95th']\n",
    "                rownumber_height = height_data[height_data['Age'] == age_ym].index[0]\n",
    "                height_data.columns = ['Age','3rd','10th','25th','50th','75th','90th','95th']\n",
    "                rownumber_bmi = bmi_data[bmi_data['Age'] == age_ym].index[0]\n",
    "                bmi_data.columns = ['Age','3rd','10th','25th','50th','75th','90th','95th']\n",
    "                rownumber_fatmass = fatmass_data[fatmass_data['Age'] == age].index[0]\n",
    "                fatmass_data.columns = ['Age','3rd','10th','25th','50th','75th','85th','90th','95th']\n",
    "                rownumber_fatmass_pct = fatmass_pct_data[fatmass_pct_data['Age'] == age].index[0]\n",
    "                fatmass_pct_data.columns = ['Age','3rd','10th','25th','50th','75th','85th','90th','95th']\n",
    "\n",
    "\n",
    "else:\n",
    "            age_ym = age*12+months\n",
    "            if age<5:\n",
    "                BMI,head,skin,tricep,arm = True,True,True,True,True\n",
    "                if gender == 'M':\n",
    "                    arm_circum_data = pd.read_csv('SamWorks/ProcessedData/WHO-Data/arm-circum-for-age/boys-table-arm-circumference-for-age-3-months-to-5-years-(percentiles).csv')\n",
    "                    if age < 2:\n",
    "                        bmi_data = pd.read_csv('SamWorks/ProcessedData/WHO-Data/bmi-for-age/bmi-boys-0-2-percentiles.csv')\n",
    "                        height_data = pd.read_csv('SamWorks/ProcessedData/WHO-Data/height-for-age/boys-table---length-for-age-birth-to-2-years-(percentiles).csv')\n",
    "                    else:\n",
    "                        bmi_data = pd.read_csv('SamWorks/ProcessedData/WHO-Data/bmi-for-age/bmi-boys-2-5-percentiles.csv')\n",
    "                        height_data = pd.read_csv('SamWorks/ProcessedData/WHO-Data/height-for-age/boys-table---height-for-age-2-to-5-years-(percentiles).csv')\n",
    "                    head_circum_data = pd.read_csv('SamWorks/ProcessedData/WHO-Data/head-circum-for-age/boys-table--head-circumference-for-age-birth-to-5-years-(percentile).csv')\n",
    "                    skin_fold_data = pd.read_csv('SamWorks/ProcessedData/WHO-Data/subscapular-skinfold-for-age/boys-table--subscapular-skinfold-for-age-3-months-to-5-years-(percentile).csv')\n",
    "                    tricep_skin_fold_data = pd.read_csv('SamWorks/ProcessedData/WHO-Data/triceps-skinfold-for-age/boys-table--triceps-skinfold-for-age-3-months-to-5-years-(percentiles).csv')\n",
    "                    weight_data = pd.read_csv('SamWorks/ProcessedData/WHO-Data/weight-for-age/boys-table---weight-for-age-birth-to-5-years-(percentiles).csv')\n",
    "\n",
    "                elif gender == 'F':\n",
    "                    arm_circum_data = pd.read_csv('SamWorks/ProcessedData/WHO-Data/arm-circum-for-age/girls-table-arm-circumference-for-age-3-months-to-5-years-(percentiles).csv')\n",
    "                    if age < 2:\n",
    "                        bmi_data = pd.read_csv('SamWorks/ProcessedData/WHO-Data/bmi-for-age/bmi-girls-0-2-percentiles.csv')\n",
    "                        height_data = pd.read_csv('SamWorks/ProcessedData/WHO-Data/height-for-age/girls-table---length-for-age-birth-to-2-years-(percentiles).csv')\n",
    "                    else:\n",
    "                        bmi_data = pd.read_csv('SamWorks/ProcessedData/WHO-Data/bmi-for-age/bmi-girls-2-5-percentiles.csv')\n",
    "                        height_data = pd.read_csv('SamWorks/ProcessedData/WHO-Data/height-for-age/girls-table---height-for-age-2-to-5-years-(percentiles).csv')\n",
    "                    head_circum_data = pd.read_csv('SamWorks/ProcessedData/WHO-Data/head-circum-for-age/girls-table--head-circumference-for-age-birth-to-5-years-(percentile).csv')\n",
    "                    skin_fold_data = pd.read_csv('SamWorks/ProcessedData/WHO-Data/subscapular-skinfold-for-age/girls-table--subscapular-skinfold-for-age-3-months-to-5-years-(percentile).csv')\n",
    "                    tricep_skin_fold_data = pd.read_csv('SamWorks/ProcessedData/WHO-Data/triceps-skinfold-for-age/girls-table--triceps-skinfold-for-age-3-months-to-5-years-(percentiles).csv')\n",
    "                    weight_data = pd.read_csv('SamWorks/ProcessedData/WHO-Data/weight-for-age/girls-table---weight-for-age-birth-to-5-years-(percentiles).csv')\n",
    "\n",
    "                bmi_data = bmi_data[['Month','1st', '3rd', '5th', '15th','25th', '50th', '75th', '85th', '95th', '97th', '99th']]\n",
    "                height_data = height_data[['Month','1st', '3rd', '5th', '15th','25th', '50th', '75th', '85th', '95th', '97th', '99th']]\n",
    "                head_circum_data = head_circum_data[['Month','1st', '3rd', '5th', '15th','25th', '50th', '75th', '85th', '95th', '97th', '99th']]\n",
    "                arm_circum_data = arm_circum_data[['Month','1st', '3rd', '5th', '15th','25th', '50th', '75th', '85th', '95th', '97th', '99th']]\n",
    "                skin_fold_data = skin_fold_data[['Month','1st', '3rd', '5th', '15th','25th', '50th', '75th', '85th', '95th', '97th', '99th']]\n",
    "                tricep_skin_fold_data = tricep_skin_fold_data[['Month','1st', '3rd', '5th', '15th','25th', '50th', '75th', '85th', '95th', '97th', '99th']]\n",
    "                weight_data = weight_data[['Month','1st', '3rd', '5th', '15th','25th', '50th', '75th', '85th', '95th', '97th', '99th']]\n",
    "                rownumber_weight = weight_data[weight_data['Month'] == age_ym].index[0]\n",
    "                rownumber_height = height_data[height_data['Month'] == age_ym].index[0]\n",
    "                rownumber_head_circum = head_circum_data[head_circum_data['Month'] == age_ym].index[0]\n",
    "                rownumber_arm_circum = arm_circum_data[arm_circum_data['Month'] == age_ym].index[0]\n",
    "                rownumber_skin_fold = skin_fold_data[skin_fold_data['Month'] == age_ym].index[0]\n",
    "                rownumber_tricep_skin_fold = tricep_skin_fold_data[tricep_skin_fold_data['Month'] == age_ym].index[0]\n",
    "                rownumber_bmi = bmi_data[bmi_data['Month'] == age_ym].index[0]\n",
    "                height_data.columns = ['Month','1st','3rd','5th','10th','25th','50th','75th','90th','95th','97th','99th'] \n",
    "                weight_data.columns = ['Month','1st','3rd','5th','10th','25th','50th','75th','90th','95th','97th','99th'] \n",
    "                head_circum_data.columns = ['Month','1st','3rd','5th','10th','25th','50th','75th','90th','95th','97th','99th'] \n",
    "                arm_circum_data.columns = ['Month','1st','3rd','5th','10th','25th','50th','75th','90th','95th','97th','99th']\n",
    "                skin_fold_data.columns = ['Month','1st','3rd','5th','10th','25th','50th','75th','90th','95th','97th','99th']\n",
    "                tricep_skin_fold_data.columns = ['Month','1st','3rd','5th','10th','25th','50th','75th','90th','95th','97th','99th'] \n",
    "                bmi_data.columns = ['Month','1st','3rd','5th','10th','25th','50th','75th','90th','95th','97th','99th']  \n",
    "            else:\n",
    "                weight_yes = False\n",
    "                BMI = True\n",
    "                if gender == 'M':\n",
    "                    height_data = pd.read_excel('C:/Users/Samreen Rizvi/Zoho WorkDrive (MetFlux)/My Folders/child_growth/SamWorks/RawData/WHO-Data/height-for-age/hfa-boys-perc-who2007-exp.xlsx')\n",
    "                    bmi_data = pd.read_excel('C:/Users/Samreen Rizvi/Zoho WorkDrive (MetFlux)/My Folders/child_growth/SamWorks/RawData/WHO-Data/BMI-for-age/bmi-boys-perc-who2007-exp.xlsx')\n",
    "                elif gender == 'F':\n",
    "                    height_data = pd.read_excel('C:/Users/Samreen Rizvi/Zoho WorkDrive (MetFlux)/My Folders/child_growth/SamWorks/RawData/WHO-Data/height-for-age/hfa-girls-perc-who2007-exp.xlsx')\n",
    "                    bmi_data = pd.read_excel('C:/Users/Samreen Rizvi/Zoho WorkDrive (MetFlux)/My Folders/child_growth/SamWorks/RawData/WHO-Data/BMI-for-age/bmi-boys-perc-who2007-exp.xlsx')\n",
    "                height_data = height_data[['Month','P1', 'P3', 'P5','P10', 'P15','P25', 'P50', 'P75', 'P85','P90', 'P95', 'P97', 'P99']]\n",
    "                bmi_data = bmi_data[['Month','P1', 'P3', 'P5','P10', 'P15','P25', 'P50', 'P75', 'P85','P90', 'P95', 'P97', 'P99']]\n",
    "                height_data.columns = ['Month','1st','3rd','5th','10th','15th','25th','50th','75th','85th','90th','95th','97th','99th']                    \n",
    "                bmi_data.columns = ['Month','1st','3rd','5th','10th','15th','25th','50th','75th','85th','90th','95th','97th','99th']\n",
    "                rownumber_height = height_data[height_data['Month'] == age_ym].index[0]\n",
    "                rownumber_bmi = bmi_data[bmi_data['Month'] == age_ym].index[0]"
   ]
  },
  {
   "cell_type": "code",
   "execution_count": 371,
   "id": "3bde7f6a",
   "metadata": {
    "hide_input": false
   },
   "outputs": [],
   "source": [
    "def percentiles(rownumber,columns,data,parameter): \n",
    "    if float(parameter) < data.iloc[rownumber:rownumber+1,1].values:\n",
    "        percentile = 'Below {}'.format(columns[1])\n",
    "        col_min = 1\n",
    "        col_max = 1\n",
    "    elif float(parameter) > data.iloc[rownumber:rownumber+1,-1].values:\n",
    "        percentile = 'Above {}'.format(columns[-1])\n",
    "        col_min = -1\n",
    "        col_max = -1\n",
    "    else:\n",
    "        for i in range(len(columns)):\n",
    "            if float(data.iloc[rownumber:rownumber+1,i].values) <= float(parameter) < float(data.iloc[rownumber:rownumber+1,i+1].values):\n",
    "                percentile = '{} - {}'.format(columns[i],columns[i+1])\n",
    "                col_min = i\n",
    "                col_max = i+1\n",
    "    return percentile\n",
    "\n",
    "def plotting(data,columns,parameter,ylim_min,ylim_max,variable,age_ym=age_ym):\n",
    "\n",
    "    global guidelines\n",
    "    fig = plt.figure(figsize=(8, 6))\n",
    "    \n",
    "    if 'Weight'or'BMI'in parameter:  \n",
    "        #plt.plot(data.iloc[:,0].values,data['3rd'], linestyle='-', color = '#cf3933')\n",
    "        plt.plot(data.iloc[:,0],data['10th'], linestyle='-', color = '#cf3933',label='Below 10th percentile')\n",
    "        plt.plot(data.iloc[:,0],data['25th'], linestyle='-', color = '#7f7f7f',label='10th-25th percentile')\n",
    "        plt.plot(data.iloc[:,0],data['50th'], linestyle='-', color = '#468d50',label='25th-50th percentile')\n",
    "        plt.plot(data.iloc[:,0],data['75th'], linestyle='-', color = '#7f7f7f',label='50-75th percentile')\n",
    "        plt.plot(data.iloc[:,0],data['90th'], linestyle='-', color = '#cf3933',label='75th-90th percentile')\n",
    "        plt.plot(data.iloc[:,0],data['95th'], linestyle='-', color = '#cf3933',label='Above 90th percentile')\n",
    "        plt.stackplot(data.iloc[:,0].values,data['95th'], color = '#efbdbd')\n",
    "        plt.stackplot(data.iloc[:,0].values,data['90th'], color = '#f9e7b2')\n",
    "        plt.stackplot(data.iloc[:,0].values,data['75th'],color = '#c5dcc7') \n",
    "        plt.stackplot(data.iloc[:,0].values,data['25th'],color = '#f9e7b2') \n",
    "        plt.stackplot(data.iloc[:,0].values,data['10th'],color = '#efbdbd') \n",
    "        #plt.stackplot(data.iloc[:,0].values,data['3rd'],color = '#efbdbd') \n",
    "        \n",
    "    \n",
    "    if parameter =='Height':\n",
    "        #plt.plot(data.iloc[:,0],data['3rd'], linestyle='-', color = '#cf3933')\n",
    "        plt.plot(data.iloc[:,0],data['10th'], linestyle='-', color = '#e2c644',label='Below 10th percentile')\n",
    "        plt.plot(data.iloc[:,0],data['25th'], linestyle='-', color = '#dcdcdc',label='10th-25th percentile')\n",
    "        plt.plot(data.iloc[:,0],data['50th'], linestyle='-', color = '#bfbfbf',label='25th-50th percentile')\n",
    "        plt.plot(data.iloc[:,0],data['75th'], linestyle='-', color = '#dcdcdc',label='50-75th percentile')\n",
    "        plt.plot(data.iloc[:,0],data['90th'], linestyle='-', color = '#dcdcdc',label='75th-90th percentile')\n",
    "        plt.plot(data.iloc[:,0],data['95th'], linestyle='-', color = '#dcdcdc',label='Above 90th percentile')\n",
    "        plt.stackplot(data.iloc[:,0].values,data['95th'], color = '#c5dcc7')\n",
    "        plt.stackplot(data.iloc[:,0].values,data['90th'], color = '#c5dcc7')\n",
    "        plt.stackplot(data.iloc[:,0].values,data['75th'],color = '#c5dcc7') \n",
    "        plt.stackplot(data.iloc[:,0].values,data['25th'],color = '#f9e7b2') \n",
    "        plt.stackplot(data.iloc[:,0].values,data['10th'],color = '#efbdbd') \n",
    "        #plt.stackplot(data.iloc[:,0].values,data['3rd'],color = '#efbdbd') \n",
    "    \n",
    "    \n",
    "    if 'CDC' in guidelines:\n",
    "            x = 'Age (in months)'\n",
    "            y = 4\n",
    "    elif 'IAP' in guidelines:\n",
    "        x = 'Age'\n",
    "        y = 4\n",
    "    else:\n",
    "        x = 'Month'\n",
    "        y = 48\n",
    "  \n",
    "    \n",
    "    plt.scatter(age_ym, variable,color = '#42a1f5',s = 100)\n",
    "    #plt.text(age_ym+y+0.2, data.loc[data[x] == age_ym+y, '3rd'], '3rd', fontsize=12, horizontalalignment='center',verticalalignment='center')\n",
    "    plt.text(age_ym+y+0.2, data.loc[data[x] == age_ym+y, '10th'], '10th', fontsize=12, horizontalalignment='center',\n",
    "    verticalalignment='center')\n",
    "    plt.text(age_ym+y+0.2, data.loc[data[x] == age_ym+y, '25th'], '25th', fontsize=12, horizontalalignment='center',\n",
    "    verticalalignment='center')\n",
    "    plt.text(age_ym+y+0.2, data.loc[data[x] == age_ym+y, '50th'], '50th', fontsize=12, horizontalalignment='center',\n",
    "    verticalalignment='center')\n",
    "    plt.text(age_ym+y+0.2, data.loc[data[x] == age_ym+y, '75th'], '75th', fontsize=12, horizontalalignment='center',\n",
    "    verticalalignment='center')\n",
    "    plt.text(age_ym+y+0.2, data.loc[data[x] == age_ym+y, '90th'], '90th', fontsize=12, horizontalalignment='center',\n",
    "    verticalalignment='center')\n",
    "    plt.text(age_ym+y+0.2, data.loc[data[x] == age_ym+y, '95th'], '95th', fontsize=12, horizontalalignment='center',\n",
    "    verticalalignment='center')    \n",
    "    plt.xlim(age_ym-y,age_ym+y)\n",
    "    #plt.ylim(ylim_min,ylim_max)\n",
    "    plt.xlabel('{}'.format(columns[0]))\n",
    "    plt.ylabel('{}'.format(parameter))\n",
    "    return"
   ]
  },
  {
   "cell_type": "code",
   "execution_count": 372,
   "id": "2b499a7c",
   "metadata": {
    "hide_input": false
   },
   "outputs": [],
   "source": [
    "def ylimits(parameter,data,rownumber):\n",
    "    ymin = 0\n",
    "    if  parameter < data.iloc[rownumber:rownumber+1,1].values:\n",
    "        ymin = parameter-2\n",
    "        if ymin <=1:\n",
    "            ymin=0\n",
    " \n",
    "    if  parameter > data.iloc[rownumber:rownumber+1,-1].values:\n",
    "        ymax = parameter+2\n",
    "        ymin = data.iloc[rownumber:rownumber+1,1].values -1\n",
    "        if parameter == 'height':\n",
    "            ymin = data.iloc[rownumber:rownumber+1,1].values -100\n",
    "    \n",
    "    else:\n",
    "        ymin =data.iloc[rownumber:rownumber+1,1].values -1\n",
    "        ymax = data.iloc[rownumber:rownumber+1,-1].values +1\n",
    "        if parameter == 'height':\n",
    "            ymin = data.iloc[rownumber:rownumber+1,1].values -100\n",
    "            ymax = data.iloc[rownumber:rownumber+1,-1].values +100\n",
    "    return ymin,ymax"
   ]
  },
  {
   "cell_type": "code",
   "execution_count": 373,
   "id": "1c30c732",
   "metadata": {
    "hide_input": false
   },
   "outputs": [
    {
     "data": {
      "application/vnd.jupyter.widget-view+json": {
       "model_id": "665f3d274cbc4e05b6b83bae47883155",
       "version_major": 2,
       "version_minor": 0
      },
      "text/plain": [
       "Output(layout=Layout(border='1px solid black'), outputs=({'output_type': 'stream', 'name': 'stdout', 'text': '…"
      ]
     },
     "metadata": {},
     "output_type": "display_data"
    },
    {
     "data": {
      "application/vnd.jupyter.widget-view+json": {
       "model_id": "eaa911dcb2f14694ad77fe7ee0b0c002",
       "version_major": 2,
       "version_minor": 0
      },
      "text/plain": [
       "Output(layout=Layout(border='1px solid black'), outputs=({'output_type': 'stream', 'name': 'stdout', 'text': '…"
      ]
     },
     "metadata": {},
     "output_type": "display_data"
    },
    {
     "data": {
      "application/vnd.jupyter.widget-view+json": {
       "model_id": "b5f6c8b75f59468fb6075c3814243d6a",
       "version_major": 2,
       "version_minor": 0
      },
      "text/plain": [
       "Output(layout=Layout(border='1px solid black'), outputs=({'output_type': 'stream', 'name': 'stdout', 'text': '…"
      ]
     },
     "metadata": {},
     "output_type": "display_data"
    },
    {
     "data": {
      "application/vnd.jupyter.widget-view+json": {
       "model_id": "6d93778de2fc4da4bd92158aff7b90d0",
       "version_major": 2,
       "version_minor": 0
      },
      "text/plain": [
       "Output(layout=Layout(border='1px solid black'), outputs=({'output_type': 'stream', 'name': 'stdout', 'text': '…"
      ]
     },
     "metadata": {},
     "output_type": "display_data"
    },
    {
     "data": {
      "application/vnd.jupyter.widget-view+json": {
       "model_id": "0d29c02ec0fc43269982b0bdf47031b5",
       "version_major": 2,
       "version_minor": 0
      },
      "text/plain": [
       "Output(layout=Layout(border='1px solid black'), outputs=({'output_type': 'stream', 'name': 'stdout', 'text': '…"
      ]
     },
     "metadata": {},
     "output_type": "display_data"
    },
    {
     "data": {
      "image/png": "[encoded data removed]",
      "text/plain": [
       "<Figure size 576x432 with 1 Axes>"
      ]
     },
     "metadata": {
      "needs_background": "light"
     },
     "output_type": "display_data"
    },
    {
     "data": {
      "image/png": "[encoded data removed]",
      "text/plain": [
       "<Figure size 576x432 with 1 Axes>"
      ]
     },
     "metadata": {
      "needs_background": "light"
     },
     "output_type": "display_data"
    },
    {
     "data": {
      "image/png": "[encoded data removed]",
      "text/plain": [
       "<Figure size 576x432 with 1 Axes>"
      ]
     },
     "metadata": {
      "needs_background": "light"
     },
     "output_type": "display_data"
    },
    {
     "data": {
      "image/png": "[encoded data removed]",
      "text/plain": [
       "<Figure size 576x432 with 1 Axes>"
      ]
     },
     "metadata": {
      "needs_background": "light"
     },
     "output_type": "display_data"
    },
    {
     "data": {
      "image/png": "[encoded data removed]",
      "text/plain": [
       "<Figure size 576x432 with 1 Axes>"
      ]
     },
     "metadata": {
      "needs_background": "light"
     },
     "output_type": "display_data"
    }
   ],
   "source": [
    "if weight_yes: \n",
    "    columns_weight = weight_data.columns\n",
    "    weight_percentile = percentiles(rownumber_weight,columns_weight,weight_data,weight)\n",
    "    weight_min,weight_max = ylimits(weight,weight_data,rownumber_weight)\n",
    "    weight_out = widgets.Output(layout={'border':'1px solid black'})\n",
    "    weight_out.append_stdout('Weight Percentile = {}'.format(weight_percentile))\n",
    "    display(weight_out)\n",
    "    plotting(weight_data,columns_weight,'Weight',weight_min,weight_max,weight)\n",
    "columns_height = height_data.columns\n",
    "\n",
    "height_percentile= percentiles(rownumber_height,columns_height,height_data,height)\n",
    "height_min,height_max = ylimits(height,height_data,rownumber_height)\n",
    "\n",
    "\n",
    "height_out = widgets.Output(layout={'border':'1px solid black'})\n",
    "height_out.append_stdout('Height Percentile = {}'.format(height_percentile))\n",
    "display(height_out)\n",
    "plotting(height_data,columns_height,'Height',height_min,height_max,height)\n",
    "if BMI:\n",
    "    columns_bmi = bmi_data.columns\n",
    "    bmi_percentile = percentiles(rownumber_bmi,columns_bmi,bmi_data,bmi)\n",
    "    bmi_min,bmi_max = ylimits(bmi,bmi_data,rownumber_bmi)\n",
    "    bmi_out = widgets.Output(layout={'border':'1px solid black'})\n",
    "    bmi_out.append_stdout('BMI Percentile = {}'.format(bmi_percentile))\n",
    "    display(bmi_out)\n",
    "    plotting(bmi_data,columns_bmi,'BMI',bmi_min,bmi_max,bmi)\n",
    "if head:\n",
    "    columns_head_circum = head_circum_data.columns\n",
    "    #head_circum_percentile,head_circum_min,head_circum_max = percentiles(rownumber_head_circum,columns_head_circum,head_circum_data,head_circum)\n",
    "    head_circum_out = widgets.Output(layout={'border':'1px solid black'})\n",
    "    head_circum_out.append_stdout('Head Circumference Percentile = {}'.format(head_circum_percentile))\n",
    "    display(head_circum_out)\n",
    "   #plotting(head_circum_min,head_circum_max,head_circum_data,columns_head_circum,'Head Circumference')\n",
    "if arm:\n",
    "    columns_arm_circum = arm_circum_data.columns\n",
    "    #arm_circum_percentile,arm_circum_min,arm_circum_max  = percentiles(rownumber_arm_circum,columns_arm_circum,arm_circum_data,arm_circum)\n",
    "    arm_circum_out = widgets.Output(layout={'border':'1px solid black'})\n",
    "    arm_circum_out.append_stdout('Arm Circumference Percentile = {}'.format(arm_circum_percentile))\n",
    "    display(arm_circum_out)\n",
    "    #plotting(arm_circum_min,arm_circum_max,arm_circum_data,columns_arm_circum,'Arm Circumference')\n",
    "if skin:\n",
    "    columns_skin_fold = skin_fold_data.columns\n",
    "    #skin_fold_percentile,skin_fold_min,skin_fold_max  = percentiles(rownumber_skin_fold,columns_skin_fold,skin_fold_data,skin_fold)\n",
    "    skin_fold_out = widgets.Output(layout={'border':'1px solid black'})\n",
    "    skin_fold_out.append_stdout('Skin Fold Percentile = {}'.format(skin_fold_percentile))\n",
    "    display(skin_fold_out)\n",
    "    #plotting(skin_fold_min,skin_fold_max,skin_fold_data,columns_skin_fold,'Skin Fold')\n",
    "\n",
    "if tricep:\n",
    "    columns_tricep_skin_fold = tricep_skin_fold_data.columns\n",
    "    #tricep_skin_fold_percentile,tricep_skin_fold_min,tricep_skin_fold_max = percentiles(rownumber_tricep_skin_fold,columns_tricep_skin_fold,tricep_skin_fold_data,tricep_skin_fold)\n",
    "    tricep_skin_fold_out = widgets.Output(layout={'border':'1px solid black'})\n",
    "    tricep_skin_fold_out.append_stdout('Tricep Skin Fold Percentile = {}'.format(tricep_skin_fold_percentile))\n",
    "    display(tricep_skin_fold_out)\n",
    "    #plotting(tricep_skin_fold_min,tricep_skin_fold_max,tricep_skin_fold_data,columns_tricep_skin_fold,'Tricep Skin Fold')\n",
    "\n",
    "if fat:\n",
    "    columns_fatmass = fatmass_data.columns\n",
    "    fatmass_percentile = percentiles(rownumber_fatmass,columns_fatmass,fatmass_data,fatmass)\n",
    "    fatmass_min,fatmass_max = ylimits(fatmass,fatmass_data,rownumber_fatmass)\n",
    "    fatmass_out = widgets.Output(layout={'border':'1px solid black'})\n",
    "    fatmass_out.append_stdout('Fatmass Percentile = {}'.format(fatmass_percentile))\n",
    "    display(fatmass_out)\n",
    "    plotting(fatmass_data,columns_fatmass,'Body Fat',fatmass_min,fatmass_max,fatmass,age)\n",
    "    \n",
    "if fatpct:\n",
    "    columns_fatmass_pct = fatmass_pct_data.columns\n",
    "    fatmass_pct_percentile = percentiles(rownumber_fatmass_pct,columns_fatmass_pct,fatmass_pct_data,fatmass_pct)\n",
    "    fatmass_pct_min,fatmass_pct_max = ylimits(fatmass_pct,fatmass_pct_data,rownumber_fatmass_pct)\n",
    "    fatmass_pct_out = widgets.Output(layout={'border':'1px solid black'})\n",
    "    fatmass_pct_out.append_stdout('Body Fat percentage Percentile = {}'.format(fatmass_pct_percentile))\n",
    "    display(fatmass_pct_out)\n",
    "    plotting(fatmass_pct_data,columns_fatmass_pct,'Body Fat %',fatmass_pct_min,fatmass_pct_max,fatmass_pct,age)"
   ]
  },
  {
   "cell_type": "code",
   "execution_count": 367,
   "id": "b4a75dbf",
   "metadata": {},
   "outputs": [],
   "source": [
    "pop_data = pd.read_excel('ZData-Anthro.xlsx',sheet_name = 'CONTROL-ALL')\n",
    "pop_data['Sex'] = pop_data['Sex'].replace({'Male':'M','Female':'F'})\n",
    "pop_data = pop_data.filter(['Age','Sex','weight-ti'], axis=1)"
   ]
  },
  {
   "cell_type": "code",
   "execution_count": 438,
   "id": "687af7ec",
   "metadata": {},
   "outputs": [],
   "source": [
    "def pop_pctl_func(df, guide, param):\n",
    "    \n",
    "    cat_boys = []\n",
    "    cat_girls = []\n",
    "    wt = weight\n",
    "    if guide == 'IAP':\n",
    "        for i in range(0, df.shape[0]):\n",
    "            \n",
    "            if df['Sex'][i] == 'M':\n",
    "                boy_wt_pctl = pd.read_csv('IAP-Dataset/male_weight_SD.csv')\n",
    "                ref_pop = boy_wt_pctl.loc[boy_wt_pctl['Age'] == df['Age'][i]]\n",
    "                ref_pop = ref_pop.drop('Age', axis = 1)\n",
    "                \n",
    "                if wt < np.array(ref_pop['p3'])[0]:\n",
    "                    pctl_cat = 'below 3rd'\n",
    "                    cat_boys.append(pctl_cat)\n",
    "                elif  np.array(ref_pop['p3'])[0] < wt < np.array(ref_pop['p10'])[0]:\n",
    "                    pctl_cat = '3rd to 10th'\n",
    "                    cat_boys.append(pctl_cat)\n",
    "                elif  np.array(ref_pop['p10'])[0] < wt < np.array(ref_pop['p25'])[0]:\n",
    "                    pctl_cat = '10th to 25th'\n",
    "                    cat_boys.append(pctl_cat)\n",
    "                elif  np.array(ref_pop['p25'])[0] < wt < np.array(ref_pop['p50'])[0]:\n",
    "                    pctl_cat = '25th to 50th'\n",
    "                    cat_boys.append(pctl_cat)\n",
    "                elif  np.array(ref_pop['p50'])[0] < wt < np.array(ref_pop['p75'])[0]:\n",
    "                    pctl_cat = '50th to 75th'\n",
    "                    cat_boys.append(pctl_cat)\n",
    "                elif  np.array(ref_pop['p75'])[0] < wt < np.array(ref_pop['p90'])[0]:\n",
    "                    pctl_cat = '75th to 90th'\n",
    "                    cat_boys.append(pctl_cat)\n",
    "                elif  np.array(ref_pop['p90'])[0] < wt < np.array(ref_pop['p97'])[0]:\n",
    "                    pctl_cat = '90th to 97th'\n",
    "                    cat_boys.append(pctl_cat)\n",
    "                elif  wt > np.array(ref_pop['p97'])[0]:\n",
    "                    pctl_cat = '90th to 97th'\n",
    "                    cat_boys.append(pctl_cat)\n",
    "                elif wt == np.array(ref_pop['p3'])[0]:\n",
    "                    pctl_cat = '3rd'\n",
    "                    cat_boys.append(pctl_cat)\n",
    "                elif wt == np.array(ref_pop['p10'])[0]:\n",
    "                    pctl_cat = '10th'\n",
    "                    cat_boys.append(pctl_cat)\n",
    "                elif wt == np.array(ref_pop['p25'])[0]:\n",
    "                    pctl_cat = '25th'\n",
    "                    cat_boys.append(pctl_cat)\n",
    "                elif wt == np.array(ref_pop['p50'])[0]:\n",
    "                    pctl_cat = '50th'\n",
    "                    cat_boys.append(pctl_cat)\n",
    "                elif wt == np.array(ref_pop['p75'])[0]:\n",
    "                    pctl_cat = '75th'\n",
    "                    cat_boys.append(pctl_cat)\n",
    "                elif wt == np.array(ref_pop['p90'])[0]:\n",
    "                    pctl_cat = '90th'\n",
    "                    cat_boys.append(pctl_cat)\n",
    "                elif wt == np.array(ref_pop['p97'])[0]:\n",
    "                    pctl_cat = '97th'\n",
    "                    cat_boys.append(pctl_cat)\n",
    "                \n",
    "                (unique, counts) = np.unique(cat_boys, return_counts=True)\n",
    "                freq_boys = np.asarray((unique, counts)).T\n",
    "            \n",
    "            elif df['Sex'][i] == 'F':\n",
    "                boy_wt_pctl = pd.read_csv('IAP-Dataset/female_weight_SD.csv')\n",
    "                ref_pop = boy_wt_pctl.loc[boy_wt_pctl['Age'] == df['Age'][i]]\n",
    "                ref_pop = ref_pop.drop('Age', axis = 1)\n",
    "                \n",
    "                if wt < np.array(ref_pop['p3'])[0]:\n",
    "                    pctl_cat = 'below 3rd'\n",
    "                    cat_girls.append(pctl_cat)\n",
    "                elif  np.array(ref_pop['p3'])[0] < wt < np.array(ref_pop['p10'])[0]:\n",
    "                    pctl_cat = '3rd to 10th'\n",
    "                    cat_girls.append(pctl_cat)\n",
    "                elif  np.array(ref_pop['p10'])[0] < wt < np.array(ref_pop['p25'])[0]:\n",
    "                    pctl_cat = '10th to 25th'\n",
    "                    cat_girls.append(pctl_cat)\n",
    "                elif  np.array(ref_pop['p25'])[0] < wt < np.array(ref_pop['p50'])[0]:\n",
    "                    pctl_cat = '25th to 50th'\n",
    "                    cat_girls.append(pctl_cat)\n",
    "                elif  np.array(ref_pop['p50'])[0] < wt < np.array(ref_pop['p75'])[0]:\n",
    "                    pctl_cat = '50th to 75th'\n",
    "                    cat_girls.append(pctl_cat)\n",
    "                elif  np.array(ref_pop['p75'])[0] < wt < np.array(ref_pop['p90'])[0]:\n",
    "                    pctl_cat = '75th to 90th'\n",
    "                    cat_girls.append(pctl_cat)\n",
    "                elif  np.array(ref_pop['p90'])[0] < wt < np.array(ref_pop['p97'])[0]:\n",
    "                    pctl_cat = '90th to 97th'\n",
    "                    cat_girls.append(pctl_cat)\n",
    "                elif  wt > np.array(ref_pop['p97'])[0]:\n",
    "                    pctl_cat = '90th to 97th'\n",
    "                    cat_girls.append(pctl_cat)\n",
    "                elif wt == np.array(ref_pop['p3'])[0]:\n",
    "                    pctl_cat = '3rd'\n",
    "                    cat_girls.append(pctl_cat)\n",
    "                elif wt == np.array(ref_pop['p10'])[0]:\n",
    "                    pctl_cat = '10th'\n",
    "                    cat_girls.append(pctl_cat)\n",
    "                elif wt == np.array(ref_pop['p25'])[0]:\n",
    "                    pctl_cat = '25th'\n",
    "                    cat_girls.append(pctl_cat)\n",
    "                elif wt == np.array(ref_pop['p50'])[0]:\n",
    "                    pctl_cat = '50th'\n",
    "                    cat_girls.append(pctl_cat)\n",
    "                elif wt == np.array(ref_pop['p75'])[0]:\n",
    "                    pctl_cat = '75th'\n",
    "                    cat_girls.append(pctl_cat)\n",
    "                elif wt == np.array(ref_pop['p90'])[0]:\n",
    "                    pctl_cat = '90th'\n",
    "                    cat_girls.append(pctl_cat)\n",
    "                elif wt == np.array(ref_pop['p97'])[0]:\n",
    "                    pctl_cat = '97th'\n",
    "                    cat_girls.append(pctl_cat)\n",
    "                \n",
    "                (unique, counts) = np.unique(cat_girls, return_counts=True)\n",
    "                freq_girls = np.asarray((unique, counts)).T\n",
    "    \n",
    "    freq = np.concatenate((freq_boys, freq_girls), axis=0)\n",
    "    freq_final = []\n",
    "    for i in range(len(freq)):\n",
    "        for j in range(0,2):\n",
    "            if        \n",
    "    return freq"
   ]
  },
  {
   "cell_type": "code",
   "execution_count": 439,
   "id": "33fe0a01",
   "metadata": {},
   "outputs": [
    {
     "name": "stdout",
     "output_type": "stream",
     "text": [
      "[['10th to 25th' '18']\n",
      " ['25th to 50th' '24']\n",
      " ['3rd to 10th' '48']\n",
      " ['50th to 75th' '25']\n",
      " ['75th to 90th' '25']\n",
      " ['10th to 25th' '25']\n",
      " ['25th to 50th' '21']\n",
      " ['3rd to 10th' '25']\n",
      " ['50th to 75th' '25']\n",
      " ['75th to 90th' '21']\n",
      " ['below 3rd' '24']]\n"
     ]
    },
    {
     "data": {
      "text/plain": [
       "'18'"
      ]
     },
     "execution_count": 439,
     "metadata": {},
     "output_type": "execute_result"
    }
   ],
   "source": [
    "freq = pop_pctl_func(pop_data, 'IAP', 'weight')\n"
   ]
  },
  {
   "cell_type": "code",
   "execution_count": 421,
   "id": "a7f07caf",
   "metadata": {},
   "outputs": [
    {
     "data": {
      "text/plain": [
       "[18, 24, 48, 25, 25, 25, 21, 25, 25, 21, 24]"
      ]
     },
     "execution_count": 421,
     "metadata": {},
     "output_type": "execute_result"
    }
   ],
   "source": [
    "pct_range = []\n",
    "count = []\n",
    "for i in range(len(freq)):\n",
    "    pct_range.append(freq[i][0])\n",
    "    count.append(int(freq[i][1]))\n",
    "count\n"
   ]
  },
  {
   "cell_type": "code",
   "execution_count": 422,
   "id": "315d9541",
   "metadata": {},
   "outputs": [
    {
     "data": {
      "text/plain": [
       "[6.405693950177936,\n",
       " 8.540925266903916,\n",
       " 17.08185053380783,\n",
       " 8.896797153024911,\n",
       " 8.896797153024911,\n",
       " 8.896797153024911,\n",
       " 7.473309608540925,\n",
       " 8.896797153024911,\n",
       " 8.896797153024911,\n",
       " 7.473309608540925,\n",
       " 8.540925266903916]"
      ]
     },
     "execution_count": 422,
     "metadata": {},
     "output_type": "execute_result"
    }
   ],
   "source": [
    "percentage = []\n",
    "for i in range(len(count)):\n",
    "    percentage.append((count[i]/sum(count))*100)\n",
    "percentage"
   ]
  },
  {
   "cell_type": "code",
   "execution_count": 423,
   "id": "7b9f352e",
   "metadata": {},
   "outputs": [
    {
     "data": {
      "text/plain": [
       "range\n",
       "10th to 25th    43\n",
       "25th to 50th    45\n",
       "3rd to 10th     73\n",
       "50th to 75th    50\n",
       "75th to 90th    46\n",
       "below 3rd       24\n",
       "Name: count, dtype: int64"
      ]
     },
     "execution_count": 423,
     "metadata": {},
     "output_type": "execute_result"
    }
   ],
   "source": [
    "pct_range\n",
    "dataframe = pd.DataFrame({'range':pct_range,'count':count})\n",
    "\n",
    "dataframe = pd.DataFrame(dataframe.groupby('range')[['count']].sum())\n",
    "dataframe['count']"
   ]
  },
  {
   "cell_type": "code",
   "execution_count": 427,
   "id": "8b4e85ec",
   "metadata": {},
   "outputs": [
    {
     "data": {
      "text/plain": [
       "([<matplotlib.axis.XTick at 0x21a4aefd730>,\n",
       "  <matplotlib.axis.XTick at 0x21a4aefd700>,\n",
       "  <matplotlib.axis.XTick at 0x21a4af0b550>,\n",
       "  <matplotlib.axis.XTick at 0x21a4af129d0>,\n",
       "  <matplotlib.axis.XTick at 0x21a4af12970>,\n",
       "  <matplotlib.axis.XTick at 0x21a4af135b0>],\n",
       " [Text(0, 0, '10th-25th'),\n",
       "  Text(1, 0, '25th-50th'),\n",
       "  Text(2, 0, '3rd-10th'),\n",
       "  Text(3, 0, '50th-75th'),\n",
       "  Text(4, 0, '75th-90th'),\n",
       "  Text(5, 0, 'below 3rd')])"
      ]
     },
     "execution_count": 427,
     "metadata": {},
     "output_type": "execute_result"
    },
    {
     "data": {
      "image/png": "[encoded data removed]",
      "text/plain": [
       "<Figure size 432x288 with 1 Axes>"
      ]
     },
     "metadata": {
      "needs_background": "light"
     },
     "output_type": "display_data"
    }
   ],
   "source": [
    "plt.scatter(range(dataframe.shape[0]),dataframe['count'])\n",
    "plt.xticks([0, 1, 2,3,4,5], ['10th-25th','25th-50th','3rd-10th','50th-75th','75th-90th','below 3rd'])"
   ]
  },
  {
   "cell_type": "code",
   "execution_count": 426,
   "id": "39b651b5",
   "metadata": {},
   "outputs": [
    {
     "data": {
      "text/plain": [
       "<AxesSubplot:ylabel='Density'>"
      ]
     },
     "execution_count": 426,
     "metadata": {},
     "output_type": "execute_result"
    },
    {
     "data": {
      "image/png": "[encoded data removed]",
      "text/plain": [
       "<Figure size 432x288 with 1 Axes>"
      ]
     },
     "metadata": {
      "needs_background": "light"
     },
     "output_type": "display_data"
    }
   ],
   "source": [
    "dataframe['count'].plot.kde()"
   ]
  },
  {
   "cell_type": "code",
   "execution_count": 431,
   "id": "f6540098",
   "metadata": {},
   "outputs": [
    {
     "data": {
      "text/plain": [
       "<BarContainer object of 11 artists>"
      ]
     },
     "execution_count": 431,
     "metadata": {},
     "output_type": "execute_result"
    },
    {
     "data": {
      "image/png": "[encoded data removed]",
      "text/plain": [
       "<Figure size 432x288 with 1 Axes>"
      ]
     },
     "metadata": {
      "needs_background": "light"
     },
     "output_type": "display_data"
    }
   ],
   "source": [
    "plt.barh(pct_range, count, color='maroon')"
   ]
  },
  {
   "cell_type": "code",
   "execution_count": null,
   "id": "bc3b6395",
   "metadata": {},
   "outputs": [],
   "source": []
  }
 ],
 "metadata": {
  "kernelspec": {
   "display_name": "Python 3 (ipykernel)",
   "language": "python",
   "name": "python3"
  },
  "language_info": {
   "codemirror_mode": {
    "name": "ipython",
    "version": 3
   },
   "file_extension": ".py",
   "mimetype": "text/x-python",
   "name": "python",
   "nbconvert_exporter": "python",
   "pygments_lexer": "ipython3",
   "version": "3.7.4"
  },
  "latex_envs": {
   "LaTeX_envs_menu_present": true,
   "autoclose": false,
   "autocomplete": true,
   "bibliofile": "biblio.bib",
   "cite_by": "apalike",
   "current_citInitial": 1,
   "eqLabelWithNumbers": true,
   "eqNumInitial": 1,
   "hotkeys": {
    "equation": "Ctrl-E",
    "itemize": "Ctrl-I"
   },
   "labels_anchors": false,
   "latex_user_defs": false,
   "report_style_numbering": false,
   "user_envs_cfg": false
  },
  "toc": {
   "base_numbering": 1,
   "nav_menu": {},
   "number_sections": true,
   "sideBar": true,
   "skip_h1_title": false,
   "title_cell": "Table of Contents",
   "title_sidebar": "Contents",
   "toc_cell": false,
   "toc_position": {},
   "toc_section_display": true,
   "toc_window_display": false
  },
  "varInspector": {
   "cols": {
    "lenName": 16,
    "lenType": 16,
    "lenVar": 40
   },
   "kernels_config": {
    "python": {
     "delete_cmd_postfix": "",
     "delete_cmd_prefix": "del ",
     "library": "var_list.py",
     "varRefreshCmd": "print(var_dic_list())"
    },
    "r": {
     "delete_cmd_postfix": ") ",
     "delete_cmd_prefix": "rm(",
     "library": "var_list.r",
     "varRefreshCmd": "cat(var_dic_list()) "
    }
   },
   "types_to_exclude": [
    "module",
    "function",
    "builtin_function_or_method",
    "instance",
    "_Feature"
   ],
   "window_display": false
  }
 },
 "nbformat": 4,
 "nbformat_minor": 5
}
