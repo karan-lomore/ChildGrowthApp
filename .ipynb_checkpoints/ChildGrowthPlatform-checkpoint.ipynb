{
 "cells": [
  {
   "cell_type": "markdown",
   "id": "2b11705c",
   "metadata": {},
   "source": [
    "<h1><center>Child Growth Assessment Platform</center></h1>"
   ]
  },
  {
   "cell_type": "markdown",
   "id": "7b1607c0",
   "metadata": {},
   "source": [
    "This prototype classify growth for children age younger than 18 years old. The calculation is based on Indian Academy of Pediatrics (IAP) and World Health Organization (WHO) growth standards. The Percentiles are calculated for the following parameters.\n",
    "\n",
    "<b> Under Five years old children </b>\n",
    "<ol>\n",
    "<li>Weight for Age </li>\n",
    "<li>Height for Age</li>\n",
    "<li>Head Circumference for Age</li>\n",
    "<li>Arm Circumference for Age</li>\n",
    "<li>Weight for Height/Length</li>\n",
    "<li>Body Mass Index (BMI) for Age</li>\n",
    "</ol>\n",
    "\n",
    "<b> Above Five years old children </b>\n",
    "<ol>\n",
    "<li>Weight for Age </li>\n",
    "<li>Height for Age</li>\n",
    "<li>Body Mass Index (BMI) for Age</li>\n",
    "</ol>"
   ]
  },
  {
   "cell_type": "code",
   "execution_count": 1,
   "id": "3e4da05c",
   "metadata": {
    "ExecuteTime": {
     "end_time": "2021-09-19T17:49:26.849301Z",
     "start_time": "2021-09-19T17:49:26.839290Z"
    },
    "hide_input": true
   },
   "outputs": [],
   "source": [
    "%matplotlib widget\n",
    "import ipywidgets as ipy\n",
    "import matplotlib.pyplot as plt\n",
    "import numpy as np\n",
    "import pandas as pd \n",
    "from IPython.display import display, Markdown, clear_output, HTML\n",
    "from datetime import date\n",
    "from ipywidgets import HBox, Label, Layout"
   ]
  },
  {
   "cell_type": "code",
   "execution_count": 2,
   "id": "ab556e37",
   "metadata": {
    "ExecuteTime": {
     "end_time": "2021-09-19T17:51:58.371264Z",
     "start_time": "2021-09-19T17:51:58.331251Z"
    },
    "hide_input": false,
    "scrolled": true
   },
   "outputs": [
    {
     "data": {
      "application/vnd.jupyter.widget-view+json": {
       "model_id": "71b9aac38307467d9b0972d4c49e1408",
       "version_major": 2,
       "version_minor": 0
      },
      "text/plain": [
       "GridspecLayout(children=(DatePicker(value=None, description='Date of birth', layout=Layout(grid_area='widget00…"
      ]
     },
     "metadata": {},
     "output_type": "display_data"
    },
    {
     "data": {
      "application/vnd.jupyter.widget-view+json": {
       "model_id": "657fb7a16b384c6495ababea907ae53e",
       "version_major": 2,
       "version_minor": 0
      },
      "text/plain": [
       "VBox(children=(Output(),))"
      ]
     },
     "metadata": {},
     "output_type": "display_data"
    }
   ],
   "source": [
    "def calculate_age_func(age_days):\n",
    "    \n",
    "    age_yrs = age_days / 365\n",
    "    \n",
    "    if age_yrs <= 5:\n",
    "        types = 'below five'\n",
    "    else:\n",
    "        types = 'above five'\n",
    "    \n",
    "    return types\n",
    "\n",
    "widgets = {}\n",
    "\n",
    "widgets['grid'] = ipy.GridspecLayout(7, 2)\n",
    "\n",
    "widgets['DOB'] = ipy.DatePicker(\n",
    "           description='Date of birth', disabled = False)\n",
    "\n",
    "widgets['DOV'] = ipy.DatePicker(\n",
    "           description='Date of visit', disabled = True)\n",
    "\n",
    "widgets['DOV'].value = date.today()\n",
    "\n",
    "widgets['sex'] = ipy.Dropdown(\n",
    "       options=['Male', 'Female'],\n",
    "       value='Male',\n",
    "       description='Sex:')\n",
    "\n",
    "widgets['growthchart'] = ipy.Dropdown(\n",
    "       options=['IAP', 'WHO'],\n",
    "       value='IAP',\n",
    "       description='Chart:')\n",
    "\n",
    "widgets['parameter'] = ipy.Dropdown(\n",
    "       options=['Z Scores', 'Percentiles'],\n",
    "       value='Percentiles',\n",
    "       description='Parameter:')\n",
    "\n",
    "widgets['weight'] = ipy.BoundedFloatText(description='Weight (kg.)', value=0, min=0, max=80, step=.5)\n",
    "\n",
    "widgets['height'] = ipy.BoundedFloatText(description='Height (cm.)', value=0, min=0, max=170, step=.5)\n",
    "\n",
    "widgets['head_circum'] = ipy.BoundedFloatText(description='Head Circumference (cm.)', value=0, min=0, max=170, step=.5)\n",
    "\n",
    "widgets['arm_circum'] = ipy.BoundedFloatText(description='Arm Circumference (cm.)', value=0, min=0, max=170, step=.5)\n",
    "\n",
    "widgets['grid'][0, 0] = widgets['DOB']\n",
    "widgets['grid'][1, 0] = widgets['DOV']\n",
    "widgets['grid'][2, 0] = widgets['sex']\n",
    "widgets['grid'][3, 0] = widgets['growthchart']\n",
    "widgets['grid'][4, 0] = widgets['parameter']\n",
    "\n",
    "next_button = ipy.Button(description='Next')\n",
    "next_box_layout = ipy.Layout(display='flex',\n",
    "                flex_flow='column',\n",
    "                align_items='center',\n",
    "                width='92%')\n",
    "\n",
    "next_box = ipy.HBox(children=[next_button], layout=next_box_layout)\n",
    "widgets['grid'][6, 0] = next_box\n",
    "next_out = ipy.Output()\n",
    "\n",
    "def next_button_clicked(_):\n",
    "      with next_out:\n",
    "            clear_output()\n",
    "            dob = widgets['DOB'].value\n",
    "            dov = widgets['DOV'].value\n",
    "            age_days = (dov - dob).days\n",
    "            child_cat = calculate_age_func(age_days)\n",
    "            \n",
    "            if child_cat == 'below five':\n",
    "                widgets['grid'][0, 1] = widgets['weight']\n",
    "                widgets['grid'][1, 1] = widgets['height']\n",
    "                widgets['grid'][2, 1] = widgets['head_circum']\n",
    "                widgets['grid'][3, 1] = widgets['arm_circum']\n",
    "                \n",
    "            else:\n",
    "                widgets['grid'][0, 1] = widgets['weight']\n",
    "                widgets['grid'][1, 1] = widgets['height']\n",
    "\n",
    "\n",
    "next_button.on_click(next_button_clicked)\n",
    "\n",
    "submit_button = ipy.Button(description='Submit')\n",
    "submit_box_layout = ipy.Layout(display='flex',\n",
    "                flex_flow='column',\n",
    "                align_items='center',\n",
    "                width='92%')\n",
    "submit_box = ipy.HBox(children=[submit_button], layout=submit_box_layout)\n",
    "\n",
    "widgets['grid'][6, 1] = submit_box\n",
    "\n",
    "submit_out = ipy.Output()\n",
    "\n",
    "def submit_button_clicked(_):\n",
    "    with submit_out:\n",
    "        clear_output()\n",
    "        wt = widgets['weight'].value\n",
    "        dob = widgets['DOB'].value\n",
    "        dov = widgets['DOV'].value\n",
    "        sex = widgets['sex'].value\n",
    "        display(widgets['weight'].value)\n",
    "        \n",
    "        \n",
    "        \n",
    "display(widgets['grid'])\n",
    "\n",
    "submit_button.on_click(submit_button_clicked)\n",
    "\n",
    "ipy.VBox([submit_out])"
   ]
  },
  {
   "cell_type": "code",
   "execution_count": null,
   "id": "14b6985a",
   "metadata": {},
   "outputs": [],
   "source": []
  }
 ],
 "metadata": {
  "kernelspec": {
   "display_name": "Python 3 (ipykernel)",
   "language": "python",
   "name": "python3"
  },
  "language_info": {
   "codemirror_mode": {
    "name": "ipython",
    "version": 3
   },
   "file_extension": ".py",
   "mimetype": "text/x-python",
   "name": "python",
   "nbconvert_exporter": "python",
   "pygments_lexer": "ipython3",
   "version": "3.7.4"
  },
  "latex_envs": {
   "LaTeX_envs_menu_present": true,
   "autoclose": false,
   "autocomplete": true,
   "bibliofile": "biblio.bib",
   "cite_by": "apalike",
   "current_citInitial": 1,
   "eqLabelWithNumbers": true,
   "eqNumInitial": 1,
   "hotkeys": {
    "equation": "Ctrl-E",
    "itemize": "Ctrl-I"
   },
   "labels_anchors": false,
   "latex_user_defs": false,
   "report_style_numbering": false,
   "user_envs_cfg": false
  },
  "varInspector": {
   "cols": {
    "lenName": 16,
    "lenType": 16,
    "lenVar": 40
   },
   "kernels_config": {
    "python": {
     "delete_cmd_postfix": "",
     "delete_cmd_prefix": "del ",
     "library": "var_list.py",
     "varRefreshCmd": "print(var_dic_list())"
    },
    "r": {
     "delete_cmd_postfix": ") ",
     "delete_cmd_prefix": "rm(",
     "library": "var_list.r",
     "varRefreshCmd": "cat(var_dic_list()) "
    }
   },
   "types_to_exclude": [
    "module",
    "function",
    "builtin_function_or_method",
    "instance",
    "_Feature"
   ],
   "window_display": false
  }
 },
 "nbformat": 4,
 "nbformat_minor": 5
}
