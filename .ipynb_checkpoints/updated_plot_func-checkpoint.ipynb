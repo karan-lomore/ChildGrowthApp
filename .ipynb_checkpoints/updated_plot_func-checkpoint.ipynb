{
 "cells": [
  {
   "cell_type": "code",
   "execution_count": 1,
   "id": "afeaa6f9",
   "metadata": {},
   "outputs": [
    {
     "ename": "SyntaxError",
     "evalue": "non-default argument follows default argument (Temp/ipykernel_6368/3660916792.py, line 1)",
     "output_type": "error",
     "traceback": [
      "\u001b[1;36m  File \u001b[1;32m\"C:\\Users\\Admin\\AppData\\Local\\Temp/ipykernel_6368/3660916792.py\"\u001b[1;36m, line \u001b[1;32m1\u001b[0m\n\u001b[1;33m    def plotting(data,columns,parameter,ylim_min=0,ylim_max=0,variable,age_ym=age_ym):\u001b[0m\n\u001b[1;37m                ^\u001b[0m\n\u001b[1;31mSyntaxError\u001b[0m\u001b[1;31m:\u001b[0m non-default argument follows default argument\n"
     ]
    }
   ],
   "source": [
    "def plotting(data,columns,parameter,ylim_min=0,ylim_max=0,variable,age_ym=age_ym):\n",
    "\n",
    "    global guidelines\n",
    "    fig = plt.figure(figsize=(8, 6))\n",
    "    \n",
    "    if 'Weight'or'BMI'in parameter:  \n",
    "        #plt.plot(data.iloc[:,0].values,data['3rd'], linestyle='-', color = '#cf3933')\n",
    "        plt.plot(data.iloc[:,0],data['10th'], linestyle='-', color = '#cf3933',label='Below 10th percentile')\n",
    "        plt.plot(data.iloc[:,0],data['25th'], linestyle='-', color = '#7f7f7f',label='10th-25th percentile')\n",
    "        plt.plot(data.iloc[:,0],data['50th'], linestyle='-', color = '#468d50',label='25th-50th percentile')\n",
    "        plt.plot(data.iloc[:,0],data['75th'], linestyle='-', color = '#7f7f7f',label='50-75th percentile')\n",
    "        plt.plot(data.iloc[:,0],data['90th'], linestyle='-', color = '#cf3933',label='75th-90th percentile')\n",
    "        plt.plot(data.iloc[:,0],data['95th'], linestyle='-', color = '#cf3933',label='Above 90th percentile')\n",
    "        plt.stackplot(data.iloc[:,0].values,data['95th'], color = '#efbdbd')\n",
    "        plt.stackplot(data.iloc[:,0].values,data['90th'], color = '#f9e7b2')\n",
    "        plt.stackplot(data.iloc[:,0].values,data['75th'],color = '#c5dcc7') \n",
    "        plt.stackplot(data.iloc[:,0].values,data['25th'],color = '#f9e7b2') \n",
    "        plt.stackplot(data.iloc[:,0].values,data['10th'],color = '#efbdbd') \n",
    "        #plt.stackplot(data.iloc[:,0].values,data['3rd'],color = '#efbdbd') \n",
    "        \n",
    "    \n",
    "    if parameter =='Height':\n",
    "        #plt.plot(data.iloc[:,0],data['3rd'], linestyle='-', color = '#cf3933')\n",
    "        plt.plot(data.iloc[:,0],data['10th'], linestyle='-', color = '#e2c644',label='Below 10th percentile')\n",
    "        plt.plot(data.iloc[:,0],data['25th'], linestyle='-', color = '#dcdcdc',label='10th-25th percentile')\n",
    "        plt.plot(data.iloc[:,0],data['50th'], linestyle='-', color = '#bfbfbf',label='25th-50th percentile')\n",
    "        plt.plot(data.iloc[:,0],data['75th'], linestyle='-', color = '#dcdcdc',label='50-75th percentile')\n",
    "        plt.plot(data.iloc[:,0],data['90th'], linestyle='-', color = '#dcdcdc',label='75th-90th percentile')\n",
    "        plt.plot(data.iloc[:,0],data['95th'], linestyle='-', color = '#dcdcdc',label='Above 90th percentile')\n",
    "        plt.stackplot(data.iloc[:,0].values,data['95th'], color = '#c5dcc7')\n",
    "        plt.stackplot(data.iloc[:,0].values,data['90th'], color = '#c5dcc7')\n",
    "        plt.stackplot(data.iloc[:,0].values,data['75th'],color = '#c5dcc7') \n",
    "        plt.stackplot(data.iloc[:,0].values,data['25th'],color = '#f9e7b2') \n",
    "        plt.stackplot(data.iloc[:,0].values,data['10th'],color = '#efbdbd') \n",
    "        #plt.stackplot(data.iloc[:,0].values,data['3rd'],color = '#efbdbd') \n",
    "    \n",
    "    \n",
    "    if 'CDC' in guidelines:\n",
    "            x = 'Age (in months)'\n",
    "            y = 4\n",
    "    elif 'IAP' in guidelines:\n",
    "        x = 'Age'\n",
    "        y = 4\n",
    "    else:\n",
    "        x = 'Month'\n",
    "        y = 48\n",
    "  \n",
    "    \n",
    "    plt.scatter(age_ym, variable,color = '#42a1f5',s = 100)\n",
    "    #plt.text(age_ym+y+0.2, data.loc[data[x] == age_ym+y, '3rd'], '3rd', fontsize=12, horizontalalignment='center',verticalalignment='center')\n",
    "    plt.text(age_ym+y+0.2, data.loc[data[x] == age_ym+y, '10th'], '10th', fontsize=12, horizontalalignment='center',\n",
    "    verticalalignment='center')\n",
    "    plt.text(age_ym+y+0.2, data.loc[data[x] == age_ym+y, '25th'], '25th', fontsize=12, horizontalalignment='center',\n",
    "    verticalalignment='center')\n",
    "    plt.text(age_ym+y+0.2, data.loc[data[x] == age_ym+y, '50th'], '50th', fontsize=12, horizontalalignment='center',\n",
    "    verticalalignment='center')\n",
    "    plt.text(age_ym+y+0.2, data.loc[data[x] == age_ym+y, '75th'], '75th', fontsize=12, horizontalalignment='center',\n",
    "    verticalalignment='center')\n",
    "    plt.text(age_ym+y+0.2, data.loc[data[x] == age_ym+y, '90th'], '90th', fontsize=12, horizontalalignment='center',\n",
    "    verticalalignment='center')\n",
    "    plt.text(age_ym+y+0.2, data.loc[data[x] == age_ym+y, '95th'], '95th', fontsize=12, horizontalalignment='center',\n",
    "    verticalalignment='center')    \n",
    "    plt.xlim(age_ym-y,age_ym+y)\n",
    "    #plt.ylim(ylim_min,ylim_max)\n",
    "    plt.xlabel('{}'.format(columns[0]))\n",
    "    plt.ylabel('{}'.format(parameter))\n",
    "    return"
   ]
  },
  {
   "cell_type": "code",
   "execution_count": 2,
   "id": "9b150633",
   "metadata": {},
   "outputs": [
    {
     "ename": "NameError",
     "evalue": "name 'plotting' is not defined",
     "output_type": "error",
     "traceback": [
      "\u001b[1;31m---------------------------------------------------------------------------\u001b[0m",
      "\u001b[1;31mNameError\u001b[0m                                 Traceback (most recent call last)",
      "\u001b[1;32m~\\AppData\\Local\\Temp/ipykernel_6368/555822472.py\u001b[0m in \u001b[0;36m<module>\u001b[1;34m\u001b[0m\n\u001b[1;32m----> 1\u001b[1;33m \u001b[0mplotting\u001b[0m\u001b[1;33m(\u001b[0m\u001b[0mweight_data\u001b[0m\u001b[1;33m,\u001b[0m\u001b[0mcolumns_weight\u001b[0m\u001b[1;33m,\u001b[0m\u001b[1;34m'Weight'\u001b[0m\u001b[1;33m,\u001b[0m\u001b[0mweight_min\u001b[0m\u001b[1;33m,\u001b[0m\u001b[0mweight_max\u001b[0m\u001b[1;33m,\u001b[0m\u001b[0mweight\u001b[0m\u001b[1;33m)\u001b[0m\u001b[1;33m\u001b[0m\u001b[1;33m\u001b[0m\u001b[0m\n\u001b[0m\u001b[0;32m      2\u001b[0m \u001b[1;31m#weight_min,weight_max make no sense right now as I have commented the line using the parameters\u001b[0m\u001b[1;33m\u001b[0m\u001b[1;33m\u001b[0m\u001b[1;33m\u001b[0m\u001b[0m\n\u001b[0;32m      3\u001b[0m \u001b[1;31m#and have given a fixed value so u can remove the varialbes.\u001b[0m\u001b[1;33m\u001b[0m\u001b[1;33m\u001b[0m\u001b[1;33m\u001b[0m\u001b[0m\n",
      "\u001b[1;31mNameError\u001b[0m: name 'plotting' is not defined"
     ]
    }
   ],
   "source": [
    "plotting(weight_data,columns_weight,'Weight',weight_min,weight_max,weight)\n",
    "#weight_min,weight_max make no sense right now as I have commented the line using the parameters\n",
    "#and have given a fixed value so u can remove the varialbes."
   ]
  },
  {
   "cell_type": "code",
   "execution_count": null,
   "id": "f80002ac",
   "metadata": {},
   "outputs": [],
   "source": []
  }
 ],
 "metadata": {
  "kernelspec": {
   "display_name": "Python 3 (ipykernel)",
   "language": "python",
   "name": "python3"
  },
  "language_info": {
   "codemirror_mode": {
    "name": "ipython",
    "version": 3
   },
   "file_extension": ".py",
   "mimetype": "text/x-python",
   "name": "python",
   "nbconvert_exporter": "python",
   "pygments_lexer": "ipython3",
   "version": "3.7.4"
  },
  "latex_envs": {
   "LaTeX_envs_menu_present": true,
   "autoclose": false,
   "autocomplete": true,
   "bibliofile": "biblio.bib",
   "cite_by": "apalike",
   "current_citInitial": 1,
   "eqLabelWithNumbers": true,
   "eqNumInitial": 1,
   "hotkeys": {
    "equation": "Ctrl-E",
    "itemize": "Ctrl-I"
   },
   "labels_anchors": false,
   "latex_user_defs": false,
   "report_style_numbering": false,
   "user_envs_cfg": false
  },
  "toc": {
   "base_numbering": 1,
   "nav_menu": {},
   "number_sections": true,
   "sideBar": true,
   "skip_h1_title": false,
   "title_cell": "Table of Contents",
   "title_sidebar": "Contents",
   "toc_cell": false,
   "toc_position": {},
   "toc_section_display": true,
   "toc_window_display": false
  },
  "varInspector": {
   "cols": {
    "lenName": 16,
    "lenType": 16,
    "lenVar": 40
   },
   "kernels_config": {
    "python": {
     "delete_cmd_postfix": "",
     "delete_cmd_prefix": "del ",
     "library": "var_list.py",
     "varRefreshCmd": "print(var_dic_list())"
    },
    "r": {
     "delete_cmd_postfix": ") ",
     "delete_cmd_prefix": "rm(",
     "library": "var_list.r",
     "varRefreshCmd": "cat(var_dic_list()) "
    }
   },
   "types_to_exclude": [
    "module",
    "function",
    "builtin_function_or_method",
    "instance",
    "_Feature"
   ],
   "window_display": false
  }
 },
 "nbformat": 4,
 "nbformat_minor": 5
}
